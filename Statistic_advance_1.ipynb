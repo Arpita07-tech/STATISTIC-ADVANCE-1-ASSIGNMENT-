{
  "nbformat": 4,
  "nbformat_minor": 0,
  "metadata": {
    "colab": {
      "provenance": []
    },
    "kernelspec": {
      "name": "python3",
      "display_name": "Python 3"
    },
    "language_info": {
      "name": "python"
    }
  },
  "cells": [
    {
      "cell_type": "markdown",
      "source": [
        "ASSIGNMENT"
      ],
      "metadata": {
        "id": "pjfCGoV4w7C2"
      }
    },
    {
      "cell_type": "markdown",
      "source": [
        "Question 1: What is a random variable in probability theory?\n",
        "\n",
        "  - A random variable (RV) is a numerical quantity whose value is determined by the outcome of a random experiment.\n",
        "\n",
        "    - Instead of describing results in words (like “heads” or “tails”), a random variable converts them into numbers so that we can use mathematics and statistics to analyze them.\n",
        "\n",
        "    - Formally, if the sample space of an experiment is Ω, a random variable is a function 𝑋:Ω→𝑅\n",
        "\n",
        "  Example:\n",
        "\n",
        "  If we toss a coin three times, the outcomes could be HHT, TTT, etc. If we define X= “number of heads,” then:\n",
        "\n",
        "For HHT → X=2\n",
        "\n",
        "For TTT → X=0\n",
        "\n",
        "For HHH → X=3\n",
        "\n",
        "Thus, X is the random variable. This helps in analyzing probabilities and expectations mathematically.\n",
        "\n",
        "---\n",
        "\n",
        "Question 2: What are the types of random variables?\n",
        "\n",
        "  - Random variables are mainly of two types:\n",
        "\n",
        "  A. Discrete Random Variable\n",
        "\n",
        "  - Takes finite or countably infinite values (0, 1, 2, 3, …).\n",
        "\n",
        "  - Described by a Probability Mass Function (PMF): p(x)=P(X=x).\n",
        "\n",
        "  - Example: number of defective bulbs in a box of 10. Possible values are integers from 0 to 10.\n",
        "\n",
        "  B. Continuous Random Variable\n",
        "\n",
        "  - Can take any value within an interval of real numbers.\n",
        "\n",
        "  - Described by a Probability Density Function (PDF), f(x).\n",
        "\n",
        "  - Probability of a specific point is zero, but probability over an interval is meaningful:\n",
        "  P(a≤X≤b)=∫ab​f(x)dx\n",
        "\n",
        "  - Example: the time it takes for a train to arrive, measured in minutes, can be 5.2, 5.25, 5.27, etc.\n",
        "\n",
        "---\n",
        "\n",
        "Question 3: Explain the difference between discrete and continuous distributions.\n",
        "\n",
        "  - Discrete distributions describe random variables with specific, separate values. Example: Binomial distribution counts successes in fixed trials.\n",
        "  \n",
        "  - Continuous distributions describe variables with infinitely many possible values within an interval. Example: Normal distribution models heights.\n",
        "\n",
        "The key difference is in probability calculation: discrete → P(X = x), continuous → P(a ≤ X ≤ b) via area under the curve.\n",
        "\n",
        "---\n",
        "\n",
        "Question 4: What is a binomial distribution, and how is it used in probability?\n",
        "\n",
        " - A binomial distribution models the number of successes in a fixed number of independent trials, each with the same probability of success p.\n",
        "\n",
        "  It is defined by two parameters: n (number of trials) and p (success probability).\n",
        "\n",
        "  Example: Flipping a fair coin 5 times — number of heads follows Binomial(n=5, p=0.5).\n",
        "  It’s widely used in quality control, survey sampling, and reliability testing.\n",
        "\n",
        "\n",
        "---\n",
        "\n",
        "Question 5: What is the standard normal distribution, and why is it important?\n",
        "\n",
        "  - The standard normal distribution is a special normal distribution with mean μ = 0 and standard deviation σ = 1.\n",
        "\n",
        "  Its curve is symmetric, bell-shaped, and centered at zero.\n",
        "\n",
        "  It is important because many variables can be transformed (standardized) into this form using Z = (X − μ) / σ.\n",
        "\n",
        "  This makes it easy to use standard Z-tables for probability calculations and hypothesis testing.\n",
        "\n",
        "---\n",
        "\n",
        "Q6. What is the Central Limit Theorem (CLT), and why is it critical in statistics?\n",
        "\n",
        "  - The Central Limit Theorem says that when you take large random samples from any population, the sampling distribution of the sample mean will be approximately normal — even if the population is not normal.\n",
        "\n",
        "  This is why the normal distribution appears so often in statistics.\n",
        "\n",
        "  The CLT justifies using normal-based methods (confidence intervals, z-tests) for many problems in practice, as long as sample size is large enough (often n ≥ 30 is used as a rule of thumb).\n",
        "\n",
        "---\n",
        "\n",
        "Question 7: What is the significance of confidence intervals in statistical analysis?\n",
        "\n",
        "  - A confidence interval (CI) provides a range of values that is likely to contain the true population parameter (e.g., mean, proportion).\n",
        "\n",
        "  Example: A 95% CI of [10.5, 12.3] means that, in repeated sampling, about 95% of such intervals would contain the true mean.\n",
        "\n",
        "  CIs help express uncertainty from sampling and give more information than a single point estimate.\n",
        "\n",
        "---\n",
        "\n",
        "Q8. What is the concept of expected value in a probability distribution?\n",
        "\n",
        "  - The expected value (mean) is the long-term average you’d expect after repeating an experiment many times.\n",
        "\n",
        "  For a discrete random variable X, E[X] = Σ x_i · P(X = x_i).\n",
        "\n",
        "  For a continuous one, E[X] = ∫ x · f(x) dx.\n",
        "\n",
        "  Example: The expected value of rolling a fair die is (1+2+3+4+5+6)/6 = 3.5.\n",
        "  \n",
        "  It’s a measure of the 'center' of a probability distribution.\n",
        "\n"
      ],
      "metadata": {
        "id": "bOoXAfe3xCNN"
      }
    },
    {
      "cell_type": "markdown",
      "source": [
        "Question 9: Write a Python program to generate 1000 random numbers from a normal\n",
        "distribution with mean = 50 and standard deviation = 5. Compute its mean and standard\n",
        "deviation using NumPy, and draw a histogram to visualize the distribution."
      ],
      "metadata": {
        "id": "vP1Gxjyl1s_e"
      }
    },
    {
      "cell_type": "code",
      "execution_count": 2,
      "metadata": {
        "colab": {
          "base_uri": "https://localhost:8080/",
          "height": 442
        },
        "id": "-3E_L14Klggq",
        "outputId": "1aa100df-c3d3-4d6b-f221-d81cf16c7ad2"
      },
      "outputs": [
        {
          "output_type": "stream",
          "name": "stdout",
          "text": [
            "Sample mean: 50.0967\n",
            "Sample SD (ddof=1): 4.8961\n"
          ]
        },
        {
          "output_type": "display_data",
          "data": {
            "text/plain": [
              "<Figure size 700x400 with 1 Axes>"
            ],
            "image/png": "[encoded data removed]"
          },
          "metadata": {}
        }
      ],
      "source": [
        "import numpy as np\n",
        "import matplotlib.pyplot as plt\n",
        "\n",
        "# make results reproducible\n",
        "np.random.seed(42)\n",
        "\n",
        "# 1) generate data\n",
        "data = np.random.normal(loc=50, scale=5, size=1000)\n",
        "\n",
        "# 2) compute sample mean and sample standard deviation\n",
        "mean = data.mean()\n",
        "std = data.std(ddof=1)   # ddof=1 -> sample SD\n",
        "\n",
        "print(f\"Sample mean: {mean:.4f}\")\n",
        "print(f\"Sample SD (ddof=1): {std:.4f}\")\n",
        "\n",
        "# 3) draw histogram\n",
        "plt.figure(figsize=(7,4))\n",
        "plt.hist(data, bins=30, edgecolor=\"black\")\n",
        "plt.axvline(mean, linestyle=\"--\", linewidth=2, label=f\"Mean = {mean:.2f}\")\n",
        "plt.title(\"Histogram of Normal(50, 5) sample (n=1000)\")\n",
        "plt.xlabel(\"Value\")\n",
        "plt.ylabel(\"Frequency\")\n",
        "plt.legend()\n",
        "plt.tight_layout()\n",
        "plt.show()  # ensures the chart appears in Cola\n"
      ]
    },
    {
      "cell_type": "markdown",
      "source": [
        "Question 10: You are working as a data analyst for a retail company. The company has\n",
        "collected daily sales data for 2 years and wants you to identify the overall sales trend.\n",
        "daily_sales = [220, 245, 210, 265, 230, 250, 260, 275, 240, 255,\n",
        "235, 260, 245, 250, 225, 270, 265, 255, 250, 260]\n",
        "● Explain how you would apply the Central Limit Theorem to estimate the average sales\n",
        "with a 95% confidence interval.\n",
        "● Write the Python code to compute the mean sales and its confidence interval."
      ],
      "metadata": {
        "id": "4QCWltkv2Q79"
      }
    },
    {
      "cell_type": "code",
      "source": [
        "import numpy as np\n",
        "from math import sqrt\n",
        "from scipy import stats\n",
        "\n",
        "daily_sales = [220, 245, 210, 265, 230, 250, 260, 275, 240, 255,\n",
        "               235, 260, 245, 250, 225, 270, 265, 255, 250, 260]\n",
        "\n",
        "x = np.array(daily_sales)\n",
        "n = len(x)\n",
        "xbar = x.mean()\n",
        "s = x.std(ddof=1)              # sample SD\n",
        "se = s / sqrt(n)\n",
        "t_crit = stats.t.ppf(0.975, df=n-1)  # 95% two-sided\n",
        "\n",
        "ci_low  = xbar - t_crit * se\n",
        "ci_high = xbar + t_crit * se\n",
        "\n",
        "print(f\"n = {n}\")\n",
        "print(f\"Mean sales = {xbar:.2f}\")\n",
        "print(f\"95% CI = ({ci_low:.2f}, {ci_high:.2f})\")\n"
      ],
      "metadata": {
        "colab": {
          "base_uri": "https://localhost:8080/"
        },
        "id": "zkoqOWAy2DWL",
        "outputId": "fea01c70-f2c9-4196-f3af-edea89f88ee4"
      },
      "execution_count": 3,
      "outputs": [
        {
          "output_type": "stream",
          "name": "stdout",
          "text": [
            "n = 20\n",
            "Mean sales = 248.25\n",
            "95% CI = (240.17, 256.33)\n"
          ]
        }
      ]
    },
    {
      "cell_type": "markdown",
      "source": [
        "\n",
        "\n",
        "Numerical results (from my run on your list):\n",
        "\n",
        "𝑛\n",
        "=\n",
        "20\n",
        "n=20\n",
        "\n",
        "Mean daily sales: 248.25\n",
        "\n",
        "95% CI: (240.17, 256.33)\n",
        "\n",
        "Interpretation: we’re 95% confident the true average daily sales lies between ≈240 and 256 units for this period. With a full 2-year dataset (much larger\n",
        "𝑛\n",
        "n), the CI would be narrower and a z-based interval (1.96) would be appropriate."
      ],
      "metadata": {
        "id": "7pU4gM6W25ls"
      }
    },
    {
      "cell_type": "code",
      "source": [],
      "metadata": {
        "id": "_9-qfS1c2fnd"
      },
      "execution_count": null,
      "outputs": []
    }
  ]
}